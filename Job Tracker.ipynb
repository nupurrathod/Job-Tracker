{
 "cells": [
  {
   "cell_type": "code",
   "execution_count": 1,
   "id": "9604bdff",
   "metadata": {
    "execution": {
     "iopub.execute_input": "2023-09-24T06:02:30.036554Z",
     "iopub.status.busy": "2023-09-24T06:02:30.035771Z",
     "iopub.status.idle": "2023-09-24T06:02:31.476129Z",
     "shell.execute_reply": "2023-09-24T06:02:31.474880Z"
    },
    "papermill": {
     "duration": 1.463008,
     "end_time": "2023-09-24T06:02:31.479680",
     "exception": false,
     "start_time": "2023-09-24T06:02:30.016672",
     "status": "completed"
    },
    "tags": []
   },
   "outputs": [],
   "source": [
    "import warnings\n",
    "warnings.filterwarnings(\"ignore\")\n",
    "from bs4 import BeautifulSoup\n",
    "import requests\n",
    "import re\n",
    "import numpy as np\n",
    "import pandas as pd\n",
    "import matplotlib.pyplot as plt\n",
    "import seaborn as sns\n",
    "%matplotlib inline\n",
    "plt.rcParams['font.size'] = 12"
   ]
  },
  {
   "cell_type": "code",
   "execution_count": 2,
   "id": "f16ae5c0",
   "metadata": {
    "execution": {
     "iopub.execute_input": "2023-09-24T06:02:31.546393Z",
     "iopub.status.busy": "2023-09-24T06:02:31.545947Z",
     "iopub.status.idle": "2023-09-24T06:02:32.163054Z",
     "shell.execute_reply": "2023-09-24T06:02:32.161494Z"
    },
    "papermill": {
     "duration": 0.639875,
     "end_time": "2023-09-24T06:02:32.166863",
     "exception": false,
     "start_time": "2023-09-24T06:02:31.526988",
     "status": "completed"
    },
    "tags": []
   },
   "outputs": [
    {
     "name": "stdout",
     "output_type": "stream",
     "text": [
      "The response that we got back from the URL is 200\n"
     ]
    }
   ],
   "source": [
    "url = 'https://www.shine.com/job-search/jobs?job_type=2&top_companies_boost=true&sort=1'\n",
    "response = requests.get(url)\n",
    "print('The response that we got back from the URL is', response.status_code)"
   ]
  },
  {
   "cell_type": "code",
   "execution_count": 3,
   "id": "7ce16f22",
   "metadata": {
    "execution": {
     "iopub.execute_input": "2023-09-24T06:02:32.268377Z",
     "iopub.status.busy": "2023-09-24T06:02:32.267861Z",
     "iopub.status.idle": "2023-09-24T06:02:32.351905Z",
     "shell.execute_reply": "2023-09-24T06:02:32.350348Z"
    },
    "papermill": {
     "duration": 0.105876,
     "end_time": "2023-09-24T06:02:32.354968",
     "exception": false,
     "start_time": "2023-09-24T06:02:32.249092",
     "status": "completed"
    },
    "tags": []
   },
   "outputs": [],
   "source": [
    "soup = BeautifulSoup(response.text,'html.parser')\n",
    "html = soup.find_all('div')"
   ]
  },
  {
   "cell_type": "code",
   "execution_count": 4,
   "id": "55882896",
   "metadata": {
    "execution": {
     "iopub.execute_input": "2023-09-24T06:02:32.478808Z",
     "iopub.status.busy": "2023-09-24T06:02:32.478245Z",
     "iopub.status.idle": "2023-09-24T06:02:32.507684Z",
     "shell.execute_reply": "2023-09-24T06:02:32.506615Z"
    },
    "papermill": {
     "duration": 0.049086,
     "end_time": "2023-09-24T06:02:32.510269",
     "exception": false,
     "start_time": "2023-09-24T06:02:32.461183",
     "status": "completed"
    },
    "tags": []
   },
   "outputs": [
    {
     "data": {
      "text/plain": [
       "['HIRING FOR INTERNATIONAL US TRAVEL SALES',\n",
       " 'Finance Sales Executive',\n",
       " 'Tele Caller',\n",
       " 'Sales Representative',\n",
       " 'Branch Banking']"
      ]
     },
     "execution_count": 4,
     "metadata": {},
     "output_type": "execute_result"
    }
   ],
   "source": [
    "req = soup.select('div h2[itemprop=\"name\"]')\n",
    "#fetching the text from the html\n",
    "titles = [r.text for r in req]\n",
    "#Removing any spaces\n",
    "titles = [t.replace(\"  \", \"\") for t in titles]\n",
    "titles[:5]"
   ]
  },
  {
   "cell_type": "code",
   "execution_count": 5,
   "id": "6a7f80ee",
   "metadata": {
    "execution": {
     "iopub.execute_input": "2023-09-24T06:02:32.607597Z",
     "iopub.status.busy": "2023-09-24T06:02:32.606638Z",
     "iopub.status.idle": "2023-09-24T06:02:32.626829Z",
     "shell.execute_reply": "2023-09-24T06:02:32.625500Z"
    },
    "papermill": {
     "duration": 0.040359,
     "end_time": "2023-09-24T06:02:32.629704",
     "exception": false,
     "start_time": "2023-09-24T06:02:32.589345",
     "status": "completed"
    },
    "tags": []
   },
   "outputs": [],
   "source": [
    "orgs = soup.find_all('div', class_='jobCard_jobCard_cName__mYnow')\n",
    "#fetching the text from the HTML\n",
    "orgs1 = [o.text for o in orgs]\n",
    "sub_string ='Hiring'\n",
    "#Splitting the string on a sub string and getting the first index (Cleaning up names)\n",
    "orgs1 = [o.split(sub_string)[0] for o in orgs1]\n",
    "#Removing any spaces\n",
    "orgs1 = [o.strip() for o in orgs1]"
   ]
  },
  {
   "cell_type": "code",
   "execution_count": 6,
   "id": "ddb97400",
   "metadata": {
    "execution": {
     "iopub.execute_input": "2023-09-24T06:02:32.663728Z",
     "iopub.status.busy": "2023-09-24T06:02:32.662299Z",
     "iopub.status.idle": "2023-09-24T06:02:32.671748Z",
     "shell.execute_reply": "2023-09-24T06:02:32.670253Z"
    },
    "papermill": {
     "duration": 0.029055,
     "end_time": "2023-09-24T06:02:32.674330",
     "exception": false,
     "start_time": "2023-09-24T06:02:32.645275",
     "status": "completed"
    },
    "tags": []
   },
   "outputs": [
    {
     "data": {
      "text/plain": [
       "['Sharda IT Services',\n",
       " 'PASKOLA VALUE MANAGEMENT CONSULTANT...',\n",
       " 'Mich Biz Services (OPC) Private Lim...',\n",
       " 'Mars Consultancy Firm',\n",
       " 'Reliable HR Consultancy']"
      ]
     },
     "execution_count": 6,
     "metadata": {},
     "output_type": "execute_result"
    }
   ],
   "source": [
    "orgs1[:5]"
   ]
  },
  {
   "cell_type": "code",
   "execution_count": 7,
   "id": "87a1c0ef",
   "metadata": {
    "execution": {
     "iopub.execute_input": "2023-09-24T06:02:32.738594Z",
     "iopub.status.busy": "2023-09-24T06:02:32.738050Z",
     "iopub.status.idle": "2023-09-24T06:02:32.759682Z",
     "shell.execute_reply": "2023-09-24T06:02:32.758192Z"
    },
    "papermill": {
     "duration": 0.041897,
     "end_time": "2023-09-24T06:02:32.762875",
     "exception": false,
     "start_time": "2023-09-24T06:02:32.720978",
     "status": "completed"
    },
    "tags": []
   },
   "outputs": [],
   "source": [
    "#fetching the HTML data from the class where the location data is available\n",
    "loc = soup.find_all('div', class_='jobCard_jobCard_lists__fdnsc')\n",
    "#fetching all the text from the HTML\n",
    "location = [l.text for l in loc]\n",
    "#cleaning the locations (Getting everything after the Yr(s))\n",
    "location = [re.findall(\"Yrs?(.*)$\", i)[0] for i in location]\n",
    "#Getting rid of unnecessary text\n",
    "location = [l.replace(\"+4\", \", \") for l in location]"
   ]
  },
  {
   "cell_type": "code",
   "execution_count": 8,
   "id": "351a81ec",
   "metadata": {
    "execution": {
     "iopub.execute_input": "2023-09-24T06:02:32.798021Z",
     "iopub.status.busy": "2023-09-24T06:02:32.796657Z",
     "iopub.status.idle": "2023-09-24T06:02:32.804507Z",
     "shell.execute_reply": "2023-09-24T06:02:32.802980Z"
    },
    "papermill": {
     "duration": 0.028772,
     "end_time": "2023-09-24T06:02:32.807143",
     "exception": false,
     "start_time": "2023-09-24T06:02:32.778371",
     "status": "completed"
    },
    "tags": []
   },
   "outputs": [
    {
     "data": {
      "text/plain": [
       "['Noida', 'Indore', 'Bangalore', 'Mumbai City', 'Lucknow']"
      ]
     },
     "execution_count": 8,
     "metadata": {},
     "output_type": "execute_result"
    }
   ],
   "source": [
    "location[:5]"
   ]
  },
  {
   "cell_type": "code",
   "execution_count": 9,
   "id": "f86b6b29",
   "metadata": {
    "execution": {
     "iopub.execute_input": "2023-09-24T06:02:32.906972Z",
     "iopub.status.busy": "2023-09-24T06:02:32.906046Z",
     "iopub.status.idle": "2023-09-24T06:02:32.912208Z",
     "shell.execute_reply": "2023-09-24T06:02:32.911023Z"
    },
    "papermill": {
     "duration": 0.027143,
     "end_time": "2023-09-24T06:02:32.915587",
     "exception": false,
     "start_time": "2023-09-24T06:02:32.888444",
     "status": "completed"
    },
    "tags": []
   },
   "outputs": [],
   "source": [
    "#fetching the text from the loc variable for the experience\n",
    "exp = [l.text for l in loc]\n",
    "#Cleaning up using regex\n",
    "experience = [re.findall(\"^(.*) Yrs?\", i)[0] for i in exp]"
   ]
  },
  {
   "cell_type": "code",
   "execution_count": 10,
   "id": "d0e206ea",
   "metadata": {
    "execution": {
     "iopub.execute_input": "2023-09-24T06:02:32.951316Z",
     "iopub.status.busy": "2023-09-24T06:02:32.950265Z",
     "iopub.status.idle": "2023-09-24T06:02:32.957033Z",
     "shell.execute_reply": "2023-09-24T06:02:32.956080Z"
    },
    "papermill": {
     "duration": 0.027153,
     "end_time": "2023-09-24T06:02:32.959686",
     "exception": false,
     "start_time": "2023-09-24T06:02:32.932533",
     "status": "completed"
    },
    "tags": []
   },
   "outputs": [
    {
     "data": {
      "text/plain": [
       "['1 to 6', '0 to 1', '0 to 1', '0 to 2', '1 to 6']"
      ]
     },
     "execution_count": 10,
     "metadata": {},
     "output_type": "execute_result"
    }
   ],
   "source": [
    "experience[:5]"
   ]
  },
  {
   "cell_type": "code",
   "execution_count": 11,
   "id": "b91bc187",
   "metadata": {
    "execution": {
     "iopub.execute_input": "2023-09-24T06:02:33.029671Z",
     "iopub.status.busy": "2023-09-24T06:02:33.028947Z",
     "iopub.status.idle": "2023-09-24T06:02:33.040354Z",
     "shell.execute_reply": "2023-09-24T06:02:33.039461Z"
    },
    "papermill": {
     "duration": 0.03385,
     "end_time": "2023-09-24T06:02:33.043413",
     "exception": false,
     "start_time": "2023-09-24T06:02:33.009563",
     "status": "completed"
    },
    "tags": []
   },
   "outputs": [],
   "source": [
    "vac = soup.find_all('ul', class_='jobCard_jobCard_jobDetail__jD82J')\n",
    "#fetching the text from the HTML\n",
    "vac = [v.text for v in vac ]"
   ]
  },
  {
   "cell_type": "code",
   "execution_count": 12,
   "id": "b6da605f",
   "metadata": {
    "execution": {
     "iopub.execute_input": "2023-09-24T06:02:33.079736Z",
     "iopub.status.busy": "2023-09-24T06:02:33.079047Z",
     "iopub.status.idle": "2023-09-24T06:02:33.085267Z",
     "shell.execute_reply": "2023-09-24T06:02:33.083950Z"
    },
    "papermill": {
     "duration": 0.027819,
     "end_time": "2023-09-24T06:02:33.088713",
     "exception": false,
     "start_time": "2023-09-24T06:02:33.060894",
     "status": "completed"
    },
    "tags": []
   },
   "outputs": [],
   "source": [
    "#Cleaning up the data\n",
    "vacancies = [int(re.findall(r'\\d+', text)[0]) if re.findall(r'\\d+', text) else 1 for text in vac]"
   ]
  },
  {
   "cell_type": "code",
   "execution_count": 13,
   "id": "b32dde44",
   "metadata": {
    "execution": {
     "iopub.execute_input": "2023-09-24T06:02:33.156244Z",
     "iopub.status.busy": "2023-09-24T06:02:33.155390Z",
     "iopub.status.idle": "2023-09-24T06:02:33.163441Z",
     "shell.execute_reply": "2023-09-24T06:02:33.162268Z"
    },
    "papermill": {
     "duration": 0.028574,
     "end_time": "2023-09-24T06:02:33.166156",
     "exception": false,
     "start_time": "2023-09-24T06:02:33.137582",
     "status": "completed"
    },
    "tags": []
   },
   "outputs": [
    {
     "data": {
      "text/plain": [
       "[50, 15, 1, 30, 10]"
      ]
     },
     "execution_count": 13,
     "metadata": {},
     "output_type": "execute_result"
    }
   ],
   "source": [
    "vacancies[:5]"
   ]
  },
  {
   "cell_type": "code",
   "execution_count": 14,
   "id": "eb0a1d61",
   "metadata": {
    "execution": {
     "iopub.execute_input": "2023-09-24T06:02:33.234899Z",
     "iopub.status.busy": "2023-09-24T06:02:33.234166Z",
     "iopub.status.idle": "2023-09-24T06:02:33.245440Z",
     "shell.execute_reply": "2023-09-24T06:02:33.244135Z"
    },
    "papermill": {
     "duration": 0.033425,
     "end_time": "2023-09-24T06:02:33.248737",
     "exception": false,
     "start_time": "2023-09-24T06:02:33.215312",
     "status": "completed"
    },
    "tags": []
   },
   "outputs": [],
   "source": [
    "data = {'Titles':titles, 'Firm Name': orgs1, \n",
    "        'Job Location':location, 'Experience':experience,\n",
    "        'Positions': vacancies}\n",
    "df = pd.DataFrame(data)"
   ]
  },
  {
   "cell_type": "code",
   "execution_count": 15,
   "id": "ee8c39d2",
   "metadata": {
    "execution": {
     "iopub.execute_input": "2023-09-24T06:02:33.284139Z",
     "iopub.status.busy": "2023-09-24T06:02:33.283662Z",
     "iopub.status.idle": "2023-09-24T06:02:33.300307Z",
     "shell.execute_reply": "2023-09-24T06:02:33.298974Z"
    },
    "papermill": {
     "duration": 0.037895,
     "end_time": "2023-09-24T06:02:33.303188",
     "exception": false,
     "start_time": "2023-09-24T06:02:33.265293",
     "status": "completed"
    },
    "tags": []
   },
   "outputs": [
    {
     "data": {
      "text/plain": [
       "2"
      ]
     },
     "execution_count": 15,
     "metadata": {},
     "output_type": "execute_result"
    }
   ],
   "source": [
    "#Checking for duplicates based on the titles column (you can pick any other column of your choice)\n",
    "df['Titles'].duplicated().sum()"
   ]
  },
  {
   "cell_type": "code",
   "execution_count": 16,
   "id": "2d9d52e8",
   "metadata": {
    "execution": {
     "iopub.execute_input": "2023-09-24T06:02:33.403287Z",
     "iopub.status.busy": "2023-09-24T06:02:33.401922Z",
     "iopub.status.idle": "2023-09-24T06:02:33.414588Z",
     "shell.execute_reply": "2023-09-24T06:02:33.413534Z"
    },
    "papermill": {
     "duration": 0.032441,
     "end_time": "2023-09-24T06:02:33.416901",
     "exception": false,
     "start_time": "2023-09-24T06:02:33.384460",
     "status": "completed"
    },
    "tags": []
   },
   "outputs": [],
   "source": [
    "#Dropping duplicates\n",
    "df.drop_duplicates(subset='Titles', inplace=True)"
   ]
  },
  {
   "cell_type": "code",
   "execution_count": 17,
   "id": "8d28e664",
   "metadata": {
    "execution": {
     "iopub.execute_input": "2023-09-24T06:02:33.452035Z",
     "iopub.status.busy": "2023-09-24T06:02:33.450665Z",
     "iopub.status.idle": "2023-09-24T06:02:33.460149Z",
     "shell.execute_reply": "2023-09-24T06:02:33.458817Z"
    },
    "papermill": {
     "duration": 0.03009,
     "end_time": "2023-09-24T06:02:33.462911",
     "exception": false,
     "start_time": "2023-09-24T06:02:33.432821",
     "status": "completed"
    },
    "tags": []
   },
   "outputs": [
    {
     "data": {
      "text/plain": [
       "0"
      ]
     },
     "execution_count": 17,
     "metadata": {},
     "output_type": "execute_result"
    }
   ],
   "source": [
    "#checking to see if those duplicates have been dropped or not\n",
    "df['Titles'].duplicated().sum()"
   ]
  },
  {
   "cell_type": "code",
   "execution_count": 18,
   "id": "a82eba84",
   "metadata": {
    "execution": {
     "iopub.execute_input": "2023-09-24T06:02:33.497366Z",
     "iopub.status.busy": "2023-09-24T06:02:33.496942Z",
     "iopub.status.idle": "2023-09-24T06:02:33.515386Z",
     "shell.execute_reply": "2023-09-24T06:02:33.513836Z"
    },
    "papermill": {
     "duration": 0.039066,
     "end_time": "2023-09-24T06:02:33.518134",
     "exception": false,
     "start_time": "2023-09-24T06:02:33.479068",
     "status": "completed"
    },
    "tags": []
   },
   "outputs": [
    {
     "data": {
      "text/html": [
       "<div>\n",
       "<style scoped>\n",
       "    .dataframe tbody tr th:only-of-type {\n",
       "        vertical-align: middle;\n",
       "    }\n",
       "\n",
       "    .dataframe tbody tr th {\n",
       "        vertical-align: top;\n",
       "    }\n",
       "\n",
       "    .dataframe thead th {\n",
       "        text-align: right;\n",
       "    }\n",
       "</style>\n",
       "<table border=\"1\" class=\"dataframe\">\n",
       "  <thead>\n",
       "    <tr style=\"text-align: right;\">\n",
       "      <th></th>\n",
       "      <th>Titles</th>\n",
       "      <th>Firm Name</th>\n",
       "      <th>Job Location</th>\n",
       "      <th>Experience</th>\n",
       "      <th>Positions</th>\n",
       "    </tr>\n",
       "  </thead>\n",
       "  <tbody>\n",
       "    <tr>\n",
       "      <th>0</th>\n",
       "      <td>HIRING FOR INTERNATIONAL US TRAVEL SALES</td>\n",
       "      <td>Sharda IT Services</td>\n",
       "      <td>Noida</td>\n",
       "      <td>1 to 6</td>\n",
       "      <td>50</td>\n",
       "    </tr>\n",
       "    <tr>\n",
       "      <th>1</th>\n",
       "      <td>Finance Sales Executive</td>\n",
       "      <td>PASKOLA VALUE MANAGEMENT CONSULTANT...</td>\n",
       "      <td>Indore</td>\n",
       "      <td>0 to 1</td>\n",
       "      <td>15</td>\n",
       "    </tr>\n",
       "    <tr>\n",
       "      <th>2</th>\n",
       "      <td>Tele Caller</td>\n",
       "      <td>Mich Biz Services (OPC) Private Lim...</td>\n",
       "      <td>Bangalore</td>\n",
       "      <td>0 to 1</td>\n",
       "      <td>1</td>\n",
       "    </tr>\n",
       "    <tr>\n",
       "      <th>3</th>\n",
       "      <td>Sales Representative</td>\n",
       "      <td>Mars Consultancy Firm</td>\n",
       "      <td>Mumbai City</td>\n",
       "      <td>0 to 2</td>\n",
       "      <td>30</td>\n",
       "    </tr>\n",
       "    <tr>\n",
       "      <th>4</th>\n",
       "      <td>Branch Banking</td>\n",
       "      <td>Reliable HR Consultancy</td>\n",
       "      <td>Lucknow</td>\n",
       "      <td>1 to 6</td>\n",
       "      <td>10</td>\n",
       "    </tr>\n",
       "  </tbody>\n",
       "</table>\n",
       "</div>"
      ],
      "text/plain": [
       "                                     Titles  \\\n",
       "0  HIRING FOR INTERNATIONAL US TRAVEL SALES   \n",
       "1                   Finance Sales Executive   \n",
       "2                               Tele Caller   \n",
       "3                      Sales Representative   \n",
       "4                            Branch Banking   \n",
       "\n",
       "                                Firm Name Job Location Experience  Positions  \n",
       "0                      Sharda IT Services        Noida     1 to 6         50  \n",
       "1  PASKOLA VALUE MANAGEMENT CONSULTANT...       Indore     0 to 1         15  \n",
       "2  Mich Biz Services (OPC) Private Lim...    Bangalore     0 to 1          1  \n",
       "3                   Mars Consultancy Firm  Mumbai City     0 to 2         30  \n",
       "4                 Reliable HR Consultancy      Lucknow     1 to 6         10  "
      ]
     },
     "execution_count": 18,
     "metadata": {},
     "output_type": "execute_result"
    }
   ],
   "source": [
    "df.head()"
   ]
  },
  {
   "cell_type": "code",
   "execution_count": 19,
   "id": "b35b799b",
   "metadata": {
    "execution": {
     "iopub.execute_input": "2023-09-24T06:02:33.555239Z",
     "iopub.status.busy": "2023-09-24T06:02:33.554844Z",
     "iopub.status.idle": "2023-09-24T06:02:33.562512Z",
     "shell.execute_reply": "2023-09-24T06:02:33.560976Z"
    },
    "papermill": {
     "duration": 0.030685,
     "end_time": "2023-09-24T06:02:33.565538",
     "exception": false,
     "start_time": "2023-09-24T06:02:33.534853",
     "status": "completed"
    },
    "tags": []
   },
   "outputs": [],
   "source": [
    "#Creating a New Column\n",
    "df['Category'] = ['Fresher' if '0' in i else 'Experienced' for i in df['Experience']]"
   ]
  },
  {
   "cell_type": "code",
   "execution_count": 20,
   "id": "0958353c",
   "metadata": {
    "execution": {
     "iopub.execute_input": "2023-09-24T06:02:33.633392Z",
     "iopub.status.busy": "2023-09-24T06:02:33.632988Z",
     "iopub.status.idle": "2023-09-24T06:02:33.650320Z",
     "shell.execute_reply": "2023-09-24T06:02:33.648678Z"
    },
    "papermill": {
     "duration": 0.038397,
     "end_time": "2023-09-24T06:02:33.653029",
     "exception": false,
     "start_time": "2023-09-24T06:02:33.614632",
     "status": "completed"
    },
    "tags": []
   },
   "outputs": [
    {
     "data": {
      "text/html": [
       "<div>\n",
       "<style scoped>\n",
       "    .dataframe tbody tr th:only-of-type {\n",
       "        vertical-align: middle;\n",
       "    }\n",
       "\n",
       "    .dataframe tbody tr th {\n",
       "        vertical-align: top;\n",
       "    }\n",
       "\n",
       "    .dataframe thead th {\n",
       "        text-align: right;\n",
       "    }\n",
       "</style>\n",
       "<table border=\"1\" class=\"dataframe\">\n",
       "  <thead>\n",
       "    <tr style=\"text-align: right;\">\n",
       "      <th></th>\n",
       "      <th>Titles</th>\n",
       "      <th>Firm Name</th>\n",
       "      <th>Job Location</th>\n",
       "      <th>Experience</th>\n",
       "      <th>Positions</th>\n",
       "      <th>Category</th>\n",
       "    </tr>\n",
       "  </thead>\n",
       "  <tbody>\n",
       "    <tr>\n",
       "      <th>6</th>\n",
       "      <td>Walk-in Interview for Business Banking role.</td>\n",
       "      <td>Kotak Mahindra Bank Limited</td>\n",
       "      <td>Mumbai City</td>\n",
       "      <td>2 to 7</td>\n",
       "      <td>99</td>\n",
       "      <td>Experienced</td>\n",
       "    </tr>\n",
       "    <tr>\n",
       "      <th>8</th>\n",
       "      <td>Walkin Interview at Kotak Mahindra Bank for Br...</td>\n",
       "      <td>Kotak Mahindra Bank Limited</td>\n",
       "      <td>Mumbai City</td>\n",
       "      <td>2 to 7</td>\n",
       "      <td>99</td>\n",
       "      <td>Experienced</td>\n",
       "    </tr>\n",
       "    <tr>\n",
       "      <th>0</th>\n",
       "      <td>HIRING FOR INTERNATIONAL US TRAVEL SALES</td>\n",
       "      <td>Sharda IT Services</td>\n",
       "      <td>Noida</td>\n",
       "      <td>1 to 6</td>\n",
       "      <td>50</td>\n",
       "      <td>Experienced</td>\n",
       "    </tr>\n",
       "    <tr>\n",
       "      <th>14</th>\n",
       "      <td>URGENT HIRING FOR SALES EXECUTIVE</td>\n",
       "      <td>Sharda IT Services</td>\n",
       "      <td>Delhi</td>\n",
       "      <td>0 to 4</td>\n",
       "      <td>50</td>\n",
       "      <td>Fresher</td>\n",
       "    </tr>\n",
       "    <tr>\n",
       "      <th>19</th>\n",
       "      <td>HIRING LANGUAGE EXPERTS FOR TECH SALES</td>\n",
       "      <td>Sharda IT Services</td>\n",
       "      <td>Delhi</td>\n",
       "      <td>0 to 4</td>\n",
       "      <td>50</td>\n",
       "      <td>Fresher</td>\n",
       "    </tr>\n",
       "  </tbody>\n",
       "</table>\n",
       "</div>"
      ],
      "text/plain": [
       "                                               Titles  \\\n",
       "6        Walk-in Interview for Business Banking role.   \n",
       "8   Walkin Interview at Kotak Mahindra Bank for Br...   \n",
       "0            HIRING FOR INTERNATIONAL US TRAVEL SALES   \n",
       "14                  URGENT HIRING FOR SALES EXECUTIVE   \n",
       "19             HIRING LANGUAGE EXPERTS FOR TECH SALES   \n",
       "\n",
       "                      Firm Name Job Location Experience  Positions  \\\n",
       "6   Kotak Mahindra Bank Limited  Mumbai City     2 to 7         99   \n",
       "8   Kotak Mahindra Bank Limited  Mumbai City     2 to 7         99   \n",
       "0            Sharda IT Services        Noida     1 to 6         50   \n",
       "14           Sharda IT Services        Delhi     0 to 4         50   \n",
       "19           Sharda IT Services        Delhi     0 to 4         50   \n",
       "\n",
       "       Category  \n",
       "6   Experienced  \n",
       "8   Experienced  \n",
       "0   Experienced  \n",
       "14      Fresher  \n",
       "19      Fresher  "
      ]
     },
     "execution_count": 20,
     "metadata": {},
     "output_type": "execute_result"
    }
   ],
   "source": [
    "#DataFrame created based on Descending values \n",
    "final_df = df.sort_values(by='Positions', ascending=False)\n",
    "final_df.head()"
   ]
  },
  {
   "cell_type": "code",
   "execution_count": 21,
   "id": "c07c728c",
   "metadata": {
    "execution": {
     "iopub.execute_input": "2023-09-24T06:02:33.722997Z",
     "iopub.status.busy": "2023-09-24T06:02:33.722600Z",
     "iopub.status.idle": "2023-09-24T06:02:37.135357Z",
     "shell.execute_reply": "2023-09-24T06:02:37.133731Z"
    },
    "papermill": {
     "duration": 3.434272,
     "end_time": "2023-09-24T06:02:37.138216",
     "exception": false,
     "start_time": "2023-09-24T06:02:33.703944",
     "status": "completed"
    },
    "tags": []
   },
   "outputs": [
    {
     "name": "stdout",
     "output_type": "stream",
     "text": [
      "We have managed to fetch 70 job postings while scraping 5 pages.\n"
     ]
    }
   ],
   "source": [
    "TITLES = []\n",
    "COMPANIES = []\n",
    "LOCATIONS = []\n",
    "EXPERIENCE = []\n",
    "VACANCIES = []\n",
    "\n",
    "Range = range(1,6)\n",
    "for i in Range:\n",
    "    link = f'https://www.shine.com/job-search/jobs-{i}?job_type=2&top_companies_boost=true&sort=1'\n",
    "    response = requests.get(link)\n",
    "\n",
    "    if response.status_code == 200:\n",
    "        soup = BeautifulSoup(response.content, 'html.parser')\n",
    "\n",
    "        req = soup.select('div h2[itemprop=\"name\"]')\n",
    "        titles = [r.text for r in req]\n",
    "        titles1 = [t.replace(\"|\",\"\") for t in titles]\n",
    "        titles = [t.replace(\"  \", \"\") for t in titles1]\n",
    "        TITLES.extend(titles)\n",
    "        \n",
    "        orgs = soup.find_all('div', class_='jobCard_jobCard_cName__mYnow')\n",
    "        orgs1 = [o.text for o in orgs]\n",
    "        sub_str = \"Hiring\"\n",
    "        companies = [o.split(sub_str)[0] for o in orgs1]\n",
    "        COMPANIES.extend(companies) \n",
    "        \n",
    "        loc = soup.find_all('div', class_='jobCard_jobCard_lists__fdnsc')\n",
    "        location = [l.text for l in loc]\n",
    "        location = [re.findall(\"Yrs?(.*)$\", i)[0] for i in location]\n",
    "        location = [l.replace(\"+4\", \", \") for l in location]\n",
    "        LOCATIONS.extend(location)\n",
    "        \n",
    "        #Fetching Experience\n",
    "        exp = [l.text for l in loc]\n",
    "        experience = [re.findall(\"^(.*) Yrs?\", i)[0] for i in exp]\n",
    "        EXPERIENCE.extend(experience)  \n",
    "        \n",
    "        vacancies = soup.find_all('ul', class_='jobCard_jobCard_jobDetail__jD82J')\n",
    "        vac = [v.text for v in vacancies]\n",
    "        vacancies = [int(re.findall(r'\\d+', text)[0]) if re.findall(r'\\d+', text) else 1 for text in vac]\n",
    "        VACANCIES.extend(vacancies)\n",
    "        \n",
    "    else:\n",
    "        print('Invalid Response')\n",
    "\n",
    "df = pd.DataFrame({'Job Title': TITLES, \n",
    "                   'Employer': COMPANIES,\n",
    "                   'Job Location': LOCATIONS, \n",
    "                   'Experience': EXPERIENCE, \n",
    "                   'Positions': VACANCIES})\n",
    "\n",
    "print(f'We have managed to fetch {len(df)} job postings while scraping {len(Range)} pages.')"
   ]
  },
  {
   "cell_type": "code",
   "execution_count": 22,
   "id": "8bbaa076",
   "metadata": {
    "execution": {
     "iopub.execute_input": "2023-09-24T06:02:37.207851Z",
     "iopub.status.busy": "2023-09-24T06:02:37.207314Z",
     "iopub.status.idle": "2023-09-24T06:02:37.218412Z",
     "shell.execute_reply": "2023-09-24T06:02:37.216990Z"
    },
    "papermill": {
     "duration": 0.03242,
     "end_time": "2023-09-24T06:02:37.221038",
     "exception": false,
     "start_time": "2023-09-24T06:02:37.188618",
     "status": "completed"
    },
    "tags": []
   },
   "outputs": [],
   "source": [
    "#Dropping the duplicates and adding the new column\n",
    "df = df.drop_duplicates(subset=['Job Title'])\n",
    "df['Category'] = ['Fresher' if '0' in i else 'Experienced' for i in df['Experience']]"
   ]
  },
  {
   "cell_type": "code",
   "execution_count": 23,
   "id": "c0b664b3",
   "metadata": {
    "execution": {
     "iopub.execute_input": "2023-09-24T06:02:37.258623Z",
     "iopub.status.busy": "2023-09-24T06:02:37.258103Z",
     "iopub.status.idle": "2023-09-24T06:02:37.275403Z",
     "shell.execute_reply": "2023-09-24T06:02:37.273985Z"
    },
    "papermill": {
     "duration": 0.038906,
     "end_time": "2023-09-24T06:02:37.278041",
     "exception": false,
     "start_time": "2023-09-24T06:02:37.239135",
     "status": "completed"
    },
    "tags": []
   },
   "outputs": [
    {
     "data": {
      "text/html": [
       "<div>\n",
       "<style scoped>\n",
       "    .dataframe tbody tr th:only-of-type {\n",
       "        vertical-align: middle;\n",
       "    }\n",
       "\n",
       "    .dataframe tbody tr th {\n",
       "        vertical-align: top;\n",
       "    }\n",
       "\n",
       "    .dataframe thead th {\n",
       "        text-align: right;\n",
       "    }\n",
       "</style>\n",
       "<table border=\"1\" class=\"dataframe\">\n",
       "  <thead>\n",
       "    <tr style=\"text-align: right;\">\n",
       "      <th></th>\n",
       "      <th>Job Title</th>\n",
       "      <th>Employer</th>\n",
       "      <th>Job Location</th>\n",
       "      <th>Experience</th>\n",
       "      <th>Positions</th>\n",
       "      <th>Category</th>\n",
       "    </tr>\n",
       "  </thead>\n",
       "  <tbody>\n",
       "    <tr>\n",
       "      <th>0</th>\n",
       "      <td>HIRING FOR INTERNATIONAL US TRAVEL SALES</td>\n",
       "      <td>Sharda IT Services</td>\n",
       "      <td>Noida</td>\n",
       "      <td>1 to 6</td>\n",
       "      <td>50</td>\n",
       "      <td>Experienced</td>\n",
       "    </tr>\n",
       "    <tr>\n",
       "      <th>1</th>\n",
       "      <td>Finance Sales Executive</td>\n",
       "      <td>PASKOLA VALUE MANAGEMENT CONSULTANT...</td>\n",
       "      <td>Indore</td>\n",
       "      <td>0 to 1</td>\n",
       "      <td>15</td>\n",
       "      <td>Fresher</td>\n",
       "    </tr>\n",
       "    <tr>\n",
       "      <th>2</th>\n",
       "      <td>Tele Caller</td>\n",
       "      <td>Mich Biz Services (OPC) Private Lim...</td>\n",
       "      <td>Bangalore</td>\n",
       "      <td>0 to 1</td>\n",
       "      <td>1</td>\n",
       "      <td>Fresher</td>\n",
       "    </tr>\n",
       "    <tr>\n",
       "      <th>3</th>\n",
       "      <td>Sales Representative</td>\n",
       "      <td>Mars Consultancy Firm</td>\n",
       "      <td>Mumbai City</td>\n",
       "      <td>0 to 2</td>\n",
       "      <td>30</td>\n",
       "      <td>Fresher</td>\n",
       "    </tr>\n",
       "    <tr>\n",
       "      <th>4</th>\n",
       "      <td>Branch Banking</td>\n",
       "      <td>Reliable HR Consultancy</td>\n",
       "      <td>Lucknow</td>\n",
       "      <td>1 to 6</td>\n",
       "      <td>10</td>\n",
       "      <td>Experienced</td>\n",
       "    </tr>\n",
       "  </tbody>\n",
       "</table>\n",
       "</div>"
      ],
      "text/plain": [
       "                                  Job Title  \\\n",
       "0  HIRING FOR INTERNATIONAL US TRAVEL SALES   \n",
       "1                   Finance Sales Executive   \n",
       "2                               Tele Caller   \n",
       "3                      Sales Representative   \n",
       "4                            Branch Banking   \n",
       "\n",
       "                                 Employer Job Location Experience  Positions  \\\n",
       "0                      Sharda IT Services        Noida     1 to 6         50   \n",
       "1  PASKOLA VALUE MANAGEMENT CONSULTANT...       Indore     0 to 1         15   \n",
       "2  Mich Biz Services (OPC) Private Lim...    Bangalore     0 to 1          1   \n",
       "3                  Mars Consultancy Firm   Mumbai City     0 to 2         30   \n",
       "4                 Reliable HR Consultancy      Lucknow     1 to 6         10   \n",
       "\n",
       "      Category  \n",
       "0  Experienced  \n",
       "1      Fresher  \n",
       "2      Fresher  \n",
       "3      Fresher  \n",
       "4  Experienced  "
      ]
     },
     "execution_count": 23,
     "metadata": {},
     "output_type": "execute_result"
    }
   ],
   "source": [
    "df.head()"
   ]
  },
  {
   "cell_type": "code",
   "execution_count": 24,
   "id": "0de23e22",
   "metadata": {
    "execution": {
     "iopub.execute_input": "2023-09-24T06:02:37.314837Z",
     "iopub.status.busy": "2023-09-24T06:02:37.314334Z",
     "iopub.status.idle": "2023-09-24T06:02:37.781344Z",
     "shell.execute_reply": "2023-09-24T06:02:37.780137Z"
    },
    "papermill": {
     "duration": 0.489359,
     "end_time": "2023-09-24T06:02:37.784663",
     "exception": false,
     "start_time": "2023-09-24T06:02:37.295304",
     "status": "completed"
    },
    "tags": []
   },
   "outputs": [
    {
     "data": {
      "image/png": "[encoded data removed]",
      "text/plain": [
       "<Figure size 1080x432 with 2 Axes>"
      ]
     },
     "metadata": {
      "needs_background": "light"
     },
     "output_type": "display_data"
    }
   ],
   "source": [
    "palette = ['#38A7D0', '#F67088']\n",
    "fig = plt.figure(figsize = [15, 6])\n",
    "plt.subplot(1, 2, 1)\n",
    "ax = sns.countplot(x = 'Category', data = df, palette = palette)\n",
    "for bar in ax.patches:\n",
    "    ax.annotate(format(bar.get_height(), '.0f'),(bar.get_x() + bar.get_width() / 2,bar.get_height()), \n",
    "                 ha='center', va='center',size=15, xytext=(0, 8),textcoords='offset points')\n",
    "plt.xlabel(xlabel = 'Category', size = 14)\n",
    "plt.ylabel(ylabel = 'Frequency', size = 14)\n",
    "plt.gca().spines['top'].set_visible(False)\n",
    "plt.gca().spines['right'].set_visible(False)\n",
    "plt.title(label = 'Frequency Distribution', size = 14)\n",
    "\n",
    "plt.subplot(1, 2, 2)\n",
    "space = np.ones(len(df.Category.unique()))/10\n",
    "df['Category'].value_counts().plot(kind = 'pie', explode = space, fontsize = 14, autopct = '%3.1f%%', \n",
    "                                 wedgeprops = dict(width=0.15), startangle = 160, figsize = [15, 6], legend = False,\n",
    "                                  colors=palette)\n",
    "plt.title(label = 'Proportion Distribution', size = 14)\n",
    "plt.tight_layout(pad = 3.0)\n",
    "plt.suptitle(t = 'Frequency & Proportion of Category', y = 1.02, size = 16)\n",
    "plt.show()"
   ]
  },
  {
   "cell_type": "code",
   "execution_count": 25,
   "id": "44292a34",
   "metadata": {
    "execution": {
     "iopub.execute_input": "2023-09-24T06:02:37.864109Z",
     "iopub.status.busy": "2023-09-24T06:02:37.863667Z",
     "iopub.status.idle": "2023-09-24T06:02:38.224252Z",
     "shell.execute_reply": "2023-09-24T06:02:38.223372Z"
    },
    "papermill": {
     "duration": 0.384537,
     "end_time": "2023-09-24T06:02:38.227233",
     "exception": false,
     "start_time": "2023-09-24T06:02:37.842696",
     "status": "completed"
    },
    "tags": []
   },
   "outputs": [
    {
     "data": {
      "image/png": "[encoded data removed]",
      "text/plain": [
       "<Figure size 2200x500 with 1 Axes>"
      ]
     },
     "metadata": {
      "needs_background": "light"
     },
     "output_type": "display_data"
    }
   ],
   "source": [
    "plt.figure(figsize=(22,5), dpi=100)\n",
    "ax = sns.histplot(df['Positions'], color = palette[0])\n",
    "plt.gca().spines['top'].set_visible(False)\n",
    "plt.gca().spines['right'].set_visible(False)\n",
    "plt.title('Positions Histogram', fontsize=20)\n",
    "plt.axhline(df.Positions.mean(), color='red')\n",
    "plt.legend(['Avg of Positions'])\n",
    "plt.show()"
   ]
  },
  {
   "cell_type": "code",
   "execution_count": 26,
   "id": "1d3b1406",
   "metadata": {
    "execution": {
     "iopub.execute_input": "2023-09-24T06:02:38.347990Z",
     "iopub.status.busy": "2023-09-24T06:02:38.347173Z",
     "iopub.status.idle": "2023-09-24T06:02:39.038107Z",
     "shell.execute_reply": "2023-09-24T06:02:39.036760Z"
    },
    "papermill": {
     "duration": 0.717382,
     "end_time": "2023-09-24T06:02:39.042706",
     "exception": false,
     "start_time": "2023-09-24T06:02:38.325324",
     "status": "completed"
    },
    "tags": []
   },
   "outputs": [
    {
     "data": {
      "image/png": "[encoded data removed]",
      "text/plain": [
       "<Figure size 2200x500 with 1 Axes>"
      ]
     },
     "metadata": {
      "needs_background": "light"
     },
     "output_type": "display_data"
    }
   ],
   "source": [
    "plt.figure(figsize=(22,5), dpi=100)\n",
    "ax = sns.barplot(x=df['Employer'][:10], y=df['Positions'][:10])\n",
    "plt.gca().spines['top'].set_visible(False)\n",
    "plt.gca().spines['right'].set_visible(False)\n",
    "plt.title('Firm Wise vacancy count', fontsize=20)\n",
    "plt.axhline(df.Positions.mean(), color='red')\n",
    "\n",
    "#Annotating each bar\n",
    "for bar in ax.patches:\n",
    "    ax.annotate(format(bar.get_height(), '.0f'),(bar.get_x() + bar.get_width() / 2,bar.get_height()), \n",
    "                 ha='center', va='center',size=15, xytext=(0, 8),textcoords='offset points')\n",
    "\n",
    "#coloring each bar based on a condition if the bar value is greator or less than count of positions for a given firm \n",
    "for i in range(len(ax.patches)):\n",
    "    #getting the count of each bar\n",
    "    counts = [p.get_height() for p in ax.patches]\n",
    "    #getting the colors based on the condition for each bar\n",
    "    colors = ['#38A7D0' if j > df.Positions.mean() else '#F67088' for j in counts]\n",
    "    #passing the color for each bar\n",
    "    ax.patches[i].set_facecolor(colors[i])  \n",
    "    \n",
    "plt.xticks(rotation=45)\n",
    "plt.show()"
   ]
  },
  {
   "cell_type": "code",
   "execution_count": 27,
   "id": "666ad16f",
   "metadata": {
    "execution": {
     "iopub.execute_input": "2023-09-24T06:02:39.087194Z",
     "iopub.status.busy": "2023-09-24T06:02:39.086714Z",
     "iopub.status.idle": "2023-09-24T06:02:39.514923Z",
     "shell.execute_reply": "2023-09-24T06:02:39.513703Z"
    },
    "papermill": {
     "duration": 0.45377,
     "end_time": "2023-09-24T06:02:39.517865",
     "exception": false,
     "start_time": "2023-09-24T06:02:39.064095",
     "status": "completed"
    },
    "tags": []
   },
   "outputs": [
    {
     "data": {
      "image/png": "[encoded data removed]",
      "text/plain": [
       "<Figure size 2200x500 with 1 Axes>"
      ]
     },
     "metadata": {
      "needs_background": "light"
     },
     "output_type": "display_data"
    }
   ],
   "source": [
    "plt.figure(figsize=(22,5), dpi=100)\n",
    "ax = sns.countplot(data =df,x=df['Experience'][:10], hue=df['Experience'][:10], dodge=False, palette=palette)\n",
    "for bar in ax.patches:\n",
    "    ax.annotate(format(bar.get_height(), '.0f'),(bar.get_x() + bar.get_width() / 2,bar.get_height()), \n",
    "                 ha='center', va='center',size=15, xytext=(0, 8),textcoords='offset points')\n",
    "plt.gca().spines['top'].set_visible(False)\n",
    "plt.gca().spines['right'].set_visible(False)\n",
    "plt.title('Category Count Plot', fontsize=20)\n",
    "plt.show()"
   ]
  }
 ],
 "metadata": {
  "kernelspec": {
   "display_name": "Python 3 (ipykernel)",
   "language": "python",
   "name": "python3"
  },
  "language_info": {
   "codemirror_mode": {
    "name": "ipython",
    "version": 3
   },
   "file_extension": ".py",
   "mimetype": "text/x-python",
   "name": "python",
   "nbconvert_exporter": "python",
   "pygments_lexer": "ipython3",
   "version": "3.11.5"
  },
  "papermill": {
   "default_parameters": {},
   "duration": 22.132711,
   "end_time": "2023-09-24T06:02:40.510686",
   "environment_variables": {},
   "exception": null,
   "input_path": "__notebook__.ipynb",
   "output_path": "__notebook__.ipynb",
   "parameters": {},
   "start_time": "2023-09-24T06:02:18.377975",
   "version": "2.3.4"
  }
 },
 "nbformat": 4,
 "nbformat_minor": 5
}
